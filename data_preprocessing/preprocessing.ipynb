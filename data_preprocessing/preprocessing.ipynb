{
 "cells": [
  {
   "cell_type": "markdown",
   "id": "a1c1be8f",
   "metadata": {},
   "source": [
    "# 讀取 dataset"
   ]
  },
  {
   "cell_type": "code",
   "execution_count": 2,
   "id": "533ff3db",
   "metadata": {},
   "outputs": [],
   "source": [
    "import re\n",
    "import numpy as np\n",
    "from tqdm import tqdm\n",
    "from scipy import sparse\n",
    "from sklearn.feature_extraction.text import TfidfVectorizer\n",
    "\n",
    "# 步驟 1：讀取 movie.txt\n",
    "with open('../dataset/movie_new2.txt', 'r') as f:\n",
    "    lines = f.readlines()"
   ]
  },
  {
   "cell_type": "markdown",
   "id": "27c2fb97",
   "metadata": {},
   "source": [
    "# 每筆觀看序列轉為電影 ID 的 list (ex: (910, 905, ...))"
   ]
  },
  {
   "cell_type": "code",
   "execution_count": 5,
   "id": "9f6f0051",
   "metadata": {},
   "outputs": [
    {
     "name": "stderr",
     "output_type": "stream",
     "text": [
      "Extracting sequences...: 100%|██████████| 400000/400000 [00:06<00:00, 60777.02it/s]\n"
     ]
    }
   ],
   "source": [
    "def extract_sequence(line):\n",
    "    pairs = re.findall(r'\\((\\d+),\\s*(\\d+)\\)', line)\n",
    "    sequence = [int(pairs[0][0])] + [int(p[1]) for p in pairs]\n",
    "    return sequence\n",
    "sequences = [extract_sequence(line) for line in tqdm(lines, desc=\"Extracting sequences...\")]"
   ]
  },
  {
   "cell_type": "markdown",
   "id": "16af1160",
   "metadata": {},
   "source": [
    "# 轉為字串形式提供給 TF-IDF (ex: \"910, 905, ...\")"
   ]
  },
  {
   "cell_type": "code",
   "execution_count": 6,
   "id": "f6b3afd5",
   "metadata": {},
   "outputs": [
    {
     "name": "stderr",
     "output_type": "stream",
     "text": [
      "Building corpus...:   0%|          | 0/400000 [00:00<?, ?it/s]"
     ]
    },
    {
     "name": "stderr",
     "output_type": "stream",
     "text": [
      "Building corpus...: 100%|██████████| 400000/400000 [00:02<00:00, 175627.80it/s]\n"
     ]
    }
   ],
   "source": [
    "corpus = [' '.join(map(str, seq)) for seq in tqdm(sequences, desc=\"Building corpus...\")]"
   ]
  },
  {
   "cell_type": "markdown",
   "id": "fe0af82e",
   "metadata": {},
   "source": [
    "# 步驟 4：使用 TF-IDF 向量化（含 N-gram）"
   ]
  },
  {
   "cell_type": "code",
   "execution_count": 7,
   "id": "1e60033f",
   "metadata": {},
   "outputs": [
    {
     "name": "stdout",
     "output_type": "stream",
     "text": [
      "Building TF-IDF matrix...\n",
      "finished building TF-IDF matrix.\n",
      "TF-IDF matrix shape: (400000, 496540)\n"
     ]
    }
   ],
   "source": [
    "print(\"Building TF-IDF matrix...\")\n",
    "vectorizer = TfidfVectorizer(analyzer='word', ngram_range=(2, 2))  # 使用 bi-gram\n",
    "X_tfidf = vectorizer.fit_transform(corpus)  # X_tfidf 是稀疏矩陣\n",
    "print(\"finished building TF-IDF matrix.\")\n",
    "print(\"TF-IDF matrix shape:\", X_tfidf.shape)"
   ]
  },
  {
   "cell_type": "markdown",
   "id": "5025ac71",
   "metadata": {},
   "source": [
    "# 儲存 X_tfidf 成 .npz"
   ]
  },
  {
   "cell_type": "code",
   "execution_count": null,
   "id": "a33c2825",
   "metadata": {},
   "outputs": [],
   "source": [
    "\n",
    "sparse.save_npz(\"X_tfidf_sparse.npz\", X_tfidf)"
   ]
  },
  {
   "cell_type": "markdown",
   "id": "d15d814e",
   "metadata": {},
   "source": [
    "# 查看某個使用者的非零項目"
   ]
  },
  {
   "cell_type": "code",
   "execution_count": 8,
   "id": "e5e71f4f",
   "metadata": {},
   "outputs": [
    {
     "name": "stdout",
     "output_type": "stream",
     "text": [
      "910 905: 0.3101\n",
      "905 2600: 0.2492\n",
      "2600 1535: 0.2176\n",
      "1535 1060: 0.3239\n",
      "1060 648: 0.3367\n",
      "648 2876: 0.2313\n",
      "2876 336: 0.2786\n",
      "336 1278: 0.2620\n",
      "1278 3905: 0.2559\n",
      "3905 152: 0.2743\n",
      "152 113: 0.2164\n",
      "113 1346: 0.2410\n",
      "1346 1221: 0.2930\n",
      "1221 1342: 0.2118\n"
     ]
    }
   ],
   "source": [
    "user_index = 0  # 第幾位使用者\n",
    "row = X_tfidf.getrow(user_index)  # 取出一行稀疏向量\n",
    "nonzero_indices = row.nonzero()[1]  # 取得非零欄位的索引\n",
    "feature_names = vectorizer.get_feature_names_out()\n",
    "\n",
    "# 顯示所有非零特徵及其 TF-IDF 值\n",
    "for idx in nonzero_indices:\n",
    "    print(f\"{feature_names[idx]}: {row[0, idx]:.4f}\")"
   ]
  }
 ],
 "metadata": {
  "kernelspec": {
   "display_name": "Python 3",
   "language": "python",
   "name": "python3"
  },
  "language_info": {
   "codemirror_mode": {
    "name": "ipython",
    "version": 3
   },
   "file_extension": ".py",
   "mimetype": "text/x-python",
   "name": "python",
   "nbconvert_exporter": "python",
   "pygments_lexer": "ipython3",
   "version": "3.10.12"
  }
 },
 "nbformat": 4,
 "nbformat_minor": 5
}
