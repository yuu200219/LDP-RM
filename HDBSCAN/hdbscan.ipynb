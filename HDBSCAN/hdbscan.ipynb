{
 "cells": [
  {
   "cell_type": "code",
   "execution_count": 13,
   "id": "23511fea",
   "metadata": {},
   "outputs": [],
   "source": [
    "import hdbscan\n",
    "from sklearn.decomposition import TruncatedSVD\n",
    "from scipy.sparse import load_npz\n",
    "clusterer = hdbscan.HDBSCAN(min_cluster_size=64, metric='euclidean')"
   ]
  },
  {
   "cell_type": "code",
   "execution_count": 14,
   "id": "c43eb519",
   "metadata": {},
   "outputs": [],
   "source": [
    "X = load_npz(\"../data_preprocessing/X_tfidf_sparse_1_2_min_df_5.npz\")"
   ]
  },
  {
   "cell_type": "code",
   "execution_count": 15,
   "id": "e9c68701",
   "metadata": {},
   "outputs": [],
   "source": [
    "import hdbscan\n",
    "from sklearn.decomposition import TruncatedSVD\n",
    "svd = TruncatedSVD(n_components=30)\n",
    "X_reduced = svd.fit_transform(X.T) # 注意轉置 → 每個 row 是一部電影"
   ]
  },
  {
   "cell_type": "code",
   "execution_count": 16,
   "id": "44b1d7a1",
   "metadata": {},
   "outputs": [
    {
     "name": "stderr",
     "output_type": "stream",
     "text": [
      "/Users/yuu/Library/Python/3.9/lib/python/site-packages/sklearn/utils/deprecation.py:151: FutureWarning: 'force_all_finite' was renamed to 'ensure_all_finite' in 1.6 and will be removed in 1.8.\n",
      "  warnings.warn(\n",
      "/Users/yuu/Library/Python/3.9/lib/python/site-packages/sklearn/utils/deprecation.py:151: FutureWarning: 'force_all_finite' was renamed to 'ensure_all_finite' in 1.6 and will be removed in 1.8.\n",
      "  warnings.warn(\n"
     ]
    }
   ],
   "source": [
    "# clusterer = hdbscan.HDBSCAN(min_cluster_size=20)\n",
    "labels = clusterer.fit_predict(X_reduced)  # shape: (num_movies,)"
   ]
  },
  {
   "cell_type": "code",
   "execution_count": 17,
   "id": "a4b7f633",
   "metadata": {},
   "outputs": [],
   "source": [
    "import numpy as np\n",
    "np.save(\"cluster_labels_1_2_min_df_5.npy\", labels)"
   ]
  }
 ],
 "metadata": {
  "kernelspec": {
   "display_name": "Python 3",
   "language": "python",
   "name": "python3"
  },
  "language_info": {
   "codemirror_mode": {
    "name": "ipython",
    "version": 3
   },
   "file_extension": ".py",
   "mimetype": "text/x-python",
   "name": "python",
   "nbconvert_exporter": "python",
   "pygments_lexer": "ipython3",
   "version": "3.9.6"
  }
 },
 "nbformat": 4,
 "nbformat_minor": 5
}
