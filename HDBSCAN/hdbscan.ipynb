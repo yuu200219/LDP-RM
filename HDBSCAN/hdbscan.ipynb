{
 "cells": [
  {
   "cell_type": "code",
   "execution_count": 24,
   "id": "31ea46ed",
   "metadata": {},
   "outputs": [],
   "source": [
    "import hdbscan\n",
    "from sklearn.decomposition import TruncatedSVD\n",
    "from scipy.sparse import load_npz\n",
    "clusterer = hdbscan.HDBSCAN(min_cluster_size=20, metric='euclidean')"
   ]
  },
  {
   "cell_type": "markdown",
   "id": "6bd10fbd",
   "metadata": {},
   "source": [
    "# load sparse matrix"
   ]
  },
  {
   "cell_type": "code",
   "execution_count": 25,
   "id": "75d81751",
   "metadata": {},
   "outputs": [],
   "source": [
    "X = load_npz(\"../data_preprocessing/X_tfidf_sparse.npz\")"
   ]
  },
  {
   "cell_type": "markdown",
   "id": "a07ea53a",
   "metadata": {},
   "source": [
    "# 降維"
   ]
  },
  {
   "cell_type": "code",
   "execution_count": 26,
   "id": "1ce28c00",
   "metadata": {},
   "outputs": [],
   "source": [
    "import hdbscan\n",
    "from sklearn.decomposition import TruncatedSVD\n",
    "svd = TruncatedSVD(n_components=30)\n",
    "X_reduced = svd.fit_transform(X.T)  # 注意轉置 → 每個 row 是一部電影\n"
   ]
  },
  {
   "cell_type": "markdown",
   "id": "acd02c43",
   "metadata": {},
   "source": [
    "# HDBSCAN"
   ]
  },
  {
   "cell_type": "code",
   "execution_count": 27,
   "id": "583fb089",
   "metadata": {},
   "outputs": [
    {
     "name": "stderr",
     "output_type": "stream",
     "text": [
      "/home/yuu/.local/lib/python3.10/site-packages/sklearn/utils/deprecation.py:151: FutureWarning: 'force_all_finite' was renamed to 'ensure_all_finite' in 1.6 and will be removed in 1.8.\n",
      "  warnings.warn(\n",
      "/home/yuu/.local/lib/python3.10/site-packages/sklearn/utils/deprecation.py:151: FutureWarning: 'force_all_finite' was renamed to 'ensure_all_finite' in 1.6 and will be removed in 1.8.\n",
      "  warnings.warn(\n"
     ]
    }
   ],
   "source": [
    "clusterer = hdbscan.HDBSCAN(min_cluster_size=20)\n",
    "labels = clusterer.fit_predict(X_reduced)  # shape: (num_movies,)"
   ]
  },
  {
   "cell_type": "code",
   "execution_count": 30,
   "id": "0cd6d4ba",
   "metadata": {},
   "outputs": [
    {
     "data": {
      "text/plain": [
       "(496540,)"
      ]
     },
     "execution_count": 30,
     "metadata": {},
     "output_type": "execute_result"
    }
   ],
   "source": [
    "labels.shape"
   ]
  },
  {
   "cell_type": "markdown",
   "id": "dba1e4a9",
   "metadata": {},
   "source": [
    "# draw HDBSCAN result"
   ]
  },
  {
   "cell_type": "code",
   "execution_count": 28,
   "id": "2059b80a",
   "metadata": {},
   "outputs": [
    {
     "data": {
      "image/png": "[encoded data removed]",
      "text/plain": [
       "<Figure size 800x600 with 1 Axes>"
      ]
     },
     "metadata": {},
     "output_type": "display_data"
    }
   ],
   "source": [
    "import matplotlib.pyplot as plt\n",
    "from sklearn.decomposition import PCA\n",
    "\n",
    "X_2d = PCA(n_components=2).fit_transform(X_reduced)\n",
    "\n",
    "# 畫圖\n",
    "plt.figure(figsize=(8, 6))\n",
    "palette = plt.get_cmap(\"tab10\")\n",
    "colors = [palette(label) if label >= 0 else (0.5, 0.5, 0.5, 0.5) for label in labels]\n",
    "\n",
    "plt.scatter(X_2d[:, 0], X_2d[:, 1], c=colors, s=50, edgecolor='k')\n",
    "plt.title(\"HDBSCAN clustering result\")\n",
    "plt.xlabel(\"Component 1\")\n",
    "plt.ylabel(\"Component 2\")\n",
    "plt.grid(True)\n",
    "plt.show()"
   ]
  },
  {
   "cell_type": "markdown",
   "id": "1833a7c0",
   "metadata": {},
   "source": [
    "# 將原始dataset依照cluster進行分割"
   ]
  },
  {
   "cell_type": "code",
   "execution_count": null,
   "id": "1cf00264",
   "metadata": {},
   "outputs": [],
   "source": [
    "movie_id_to_cluster = {movie_id: cluster_label for movie_id, cluster_label in zip(movie_ids, labels)}"
   ]
  },
  {
   "cell_type": "code",
   "execution_count": null,
   "id": "ec04c17e",
   "metadata": {},
   "outputs": [],
   "source": [
    "from collections import defaultdict\n",
    "\n",
    "cluster_to_movies = defaultdict(list)\n",
    "for m, c in movie_id_to_cluster.items():\n",
    "    if c != -1:  # -1 通常是 noise\n",
    "        cluster_to_movies[c].append(m)\n"
   ]
  },
  {
   "cell_type": "markdown",
   "id": "3d078fcf",
   "metadata": {},
   "source": [
    "# 進行 LDP_RM"
   ]
  },
  {
   "cell_type": "code",
   "execution_count": null,
   "id": "6c773494",
   "metadata": {},
   "outputs": [
    {
     "ename": "ModuleNotFoundError",
     "evalue": "No module named 'data_rm'",
     "output_type": "error",
     "traceback": [
      "\u001b[0;31m---------------------------------------------------------------------------\u001b[0m",
      "\u001b[0;31mModuleNotFoundError\u001b[0m                       Traceback (most recent call last)",
      "Cell \u001b[0;32mIn[22], line 5\u001b[0m\n\u001b[1;32m      3\u001b[0m sys\u001b[38;5;241m.\u001b[39mpath\u001b[38;5;241m.\u001b[39mappend(\u001b[38;5;124m\"\u001b[39m\u001b[38;5;124m../LDP_RM\u001b[39m\u001b[38;5;124m\"\u001b[39m)\n\u001b[1;32m      4\u001b[0m \u001b[38;5;28;01mfrom\u001b[39;00m\u001b[38;5;250m \u001b[39m\u001b[38;5;21;01mldp_rm\u001b[39;00m\u001b[38;5;250m \u001b[39m\u001b[38;5;28;01mimport\u001b[39;00m LDP_RM\n\u001b[0;32m----> 5\u001b[0m \u001b[38;5;28;01mfrom\u001b[39;00m\u001b[38;5;250m \u001b[39m\u001b[38;5;21;01mdata_rm\u001b[39;00m\u001b[38;5;250m \u001b[39m\u001b[38;5;28;01mimport\u001b[39;00m Data\n",
      "\u001b[0;31mModuleNotFoundError\u001b[0m: No module named 'data_rm'"
     ]
    }
   ],
   "source": [
    "import sys\n",
    "import os\n",
    "sys.path.append(\"../LDP_RM\")\n",
    "from ldp_rm import LDP_RM\n"
   ]
  },
  {
   "cell_type": "code",
   "execution_count": null,
   "id": "d961744c",
   "metadata": {},
   "outputs": [],
   "source": [
    "for c, movies in cluster_to_movies.items():\n",
    "    data_c = Data.filter_by_movies(movie_list=movies)\n",
    "    ldp_rm = LDP_RM(data_c, epsilon=4.0, top_k=64, top_ks=3600, top_kc=32, submat=4) \n",
    "    result_fre_dict, result_conf_dict, _ = ldp_rm.find_itemset_svd(...)\n"
   ]
  }
 ],
 "metadata": {
  "kernelspec": {
   "display_name": "Python 3",
   "language": "python",
   "name": "python3"
  },
  "language_info": {
   "codemirror_mode": {
    "name": "ipython",
    "version": 3
   },
   "file_extension": ".py",
   "mimetype": "text/x-python",
   "name": "python",
   "nbconvert_exporter": "python",
   "pygments_lexer": "ipython3",
   "version": "3.10.12"
  }
 },
 "nbformat": 4,
 "nbformat_minor": 5
}
