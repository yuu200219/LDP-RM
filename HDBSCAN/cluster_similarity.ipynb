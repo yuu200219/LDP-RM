{
 "cells": [
  {
   "cell_type": "code",
   "execution_count": null,
   "id": "b3ae8ad5",
   "metadata": {},
   "outputs": [],
   "source": [
    "from sklearn.metrics.pairwise import cosine_similarity"
   ]
  },
  {
   "cell_type": "code",
   "execution_count": null,
   "id": "159d1ba9",
   "metadata": {},
   "outputs": [],
   "source": [
    "def extract_sequence(line):\n",
    "    pairs = re.findall(r\"\\((\\d+),\\s*(\\d+)\\)\", line)\n",
    "    sequence = [int(pairs[0][0])] + [int(p[1]) for p in pairs]\n",
    "    return sequence"
   ]
  },
  {
   "cell_type": "code",
   "execution_count": null,
   "id": "3f2aa187",
   "metadata": {},
   "outputs": [],
   "source": [
    "def cluster_to_user_sequence(sequences):\n",
    "    for seq in sequences: \n",
    "    movie_list = set(seq)\n",
    "\n",
    "    # 找出此 user 涉及到的所有 cluster\n",
    "    clusters_hit = set()\n",
    "    for movie_id in movie_list:\n",
    "        if movie_id in movie_id_to_cluster:\n",
    "            clusters_hit.add(movie_id_to_cluster[movie_id])\n",
    "\n",
    "    # 把該序列加到對應 cluster 的新資料集中\n",
    "    for c in clusters_hit:\n",
    "        seq_tuple = tuple(seq)  # list 無法 hash，轉成 tuple\n",
    "        if seq_tuple not in cluster_to_seen_sequences[c]:\n",
    "            cluster_to_user_sequences[c].append(seq)"
   ]
  },
  {
   "cell_type": "code",
   "execution_count": null,
   "id": "f09c3316",
   "metadata": {},
   "outputs": [],
   "source": [
    "cluster_folder = \"../dataset/cluster_movie/\"\n",
    "cluster_files = [\n",
    "    f for f in os.listdir(cluster_folder) if re.match(r\"cluster_\\d+\\.txt$\", f)\n",
    "]"
   ]
  },
  {
   "cell_type": "code",
   "execution_count": null,
   "id": "a375ebdf",
   "metadata": {},
   "outputs": [],
   "source": [
    "cluster_to_user_sequences = defaultdict(list)\n",
    "for filename in sorted(cluster_files):\n",
    "    with open(cluster_path, \"r\") as f:\n",
    "        lines = f.readlines()\n",
    "    sequences = [extract_sequence(line) for line in tqdm(lines, desc=f\"Extracting sequences from file {filename}...\")]\n"
   ]
  },
  {
   "cell_type": "code",
   "execution_count": null,
   "id": "1d75abc9",
   "metadata": {},
   "outputs": [],
   "source": [
    "# 計算每個 cluster 的 TF-IDF 中心向量\n",
    "cluster_centroids = []\n",
    "for c in cluster_to_user_sequences:\n",
    "    indices = [i for i, seq in enumerate(sequences) if any(mid in movie_id_to_cluster and movie_id_to_cluster[mid] == c for mid in seq)]\n",
    "    centroid = X_tfidf[indices].mean(axis=0)\n",
    "    cluster_centroids.append(centroid)"
   ]
  }
 ],
 "metadata": {
  "language_info": {
   "name": "python"
  }
 },
 "nbformat": 4,
 "nbformat_minor": 5
}
